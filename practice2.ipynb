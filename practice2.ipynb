{
 "cells": [
  {
   "cell_type": "code",
   "execution_count": 3,
   "metadata": {},
   "outputs": [],
   "source": [
    "import geopandas as gpd"
   ]
  },
  {
   "cell_type": "code",
   "execution_count": 4,
   "metadata": {},
   "outputs": [],
   "source": [
    "parcels = gpd.read_file(r\"draft\\R01M4\\R01M4.shp\")"
   ]
  },
  {
   "cell_type": "code",
   "execution_count": 5,
   "metadata": {},
   "outputs": [
    {
     "data": {
      "text/html": [
       "<div>\n",
       "<style scoped>\n",
       "    .dataframe tbody tr th:only-of-type {\n",
       "        vertical-align: middle;\n",
       "    }\n",
       "\n",
       "    .dataframe tbody tr th {\n",
       "        vertical-align: top;\n",
       "    }\n",
       "\n",
       "    .dataframe thead th {\n",
       "        text-align: right;\n",
       "    }\n",
       "</style>\n",
       "<table border=\"1\" class=\"dataframe\">\n",
       "  <thead>\n",
       "    <tr style=\"text-align: right;\">\n",
       "      <th></th>\n",
       "      <th>ID</th>\n",
       "      <th>tarakom</th>\n",
       "      <th>LU</th>\n",
       "      <th>luShora</th>\n",
       "      <th>geometry</th>\n",
       "    </tr>\n",
       "  </thead>\n",
       "  <tbody>\n",
       "    <tr>\n",
       "      <th>0</th>\n",
       "      <td>39060001.0</td>\n",
       "      <td>120</td>\n",
       "      <td>مسكوني</td>\n",
       "      <td>1</td>\n",
       "      <td>POLYGON ((536740.59 3963532.08, 536743.33 3963...</td>\n",
       "    </tr>\n",
       "    <tr>\n",
       "      <th>1</th>\n",
       "      <td>39062001.0</td>\n",
       "      <td>120</td>\n",
       "      <td>مسكوني</td>\n",
       "      <td>1</td>\n",
       "      <td>POLYGON ((534647.27 3962936.41, 534651.55 3962...</td>\n",
       "    </tr>\n",
       "    <tr>\n",
       "      <th>2</th>\n",
       "      <td>39062002.0</td>\n",
       "      <td>120</td>\n",
       "      <td>مختلط</td>\n",
       "      <td>21</td>\n",
       "      <td>POLYGON ((534574.75 3963006.02, 534579.42 3963...</td>\n",
       "    </tr>\n",
       "    <tr>\n",
       "      <th>3</th>\n",
       "      <td>39062003.0</td>\n",
       "      <td>120</td>\n",
       "      <td>مسكوني</td>\n",
       "      <td>1</td>\n",
       "      <td>POLYGON ((534592.48 3962989.88, 534591.55 3962...</td>\n",
       "    </tr>\n",
       "    <tr>\n",
       "      <th>4</th>\n",
       "      <td>39062004.0</td>\n",
       "      <td>120</td>\n",
       "      <td>مشجر</td>\n",
       "      <td>15</td>\n",
       "      <td>POLYGON ((534571.28 3962968.17, 534591.55 3962...</td>\n",
       "    </tr>\n",
       "  </tbody>\n",
       "</table>\n",
       "</div>"
      ],
      "text/plain": [
       "           ID  tarakom      LU  luShora  \\\n",
       "0  39060001.0      120  مسكوني        1   \n",
       "1  39062001.0      120  مسكوني        1   \n",
       "2  39062002.0      120   مختلط       21   \n",
       "3  39062003.0      120  مسكوني        1   \n",
       "4  39062004.0      120    مشجر       15   \n",
       "\n",
       "                                            geometry  \n",
       "0  POLYGON ((536740.59 3963532.08, 536743.33 3963...  \n",
       "1  POLYGON ((534647.27 3962936.41, 534651.55 3962...  \n",
       "2  POLYGON ((534574.75 3963006.02, 534579.42 3963...  \n",
       "3  POLYGON ((534592.48 3962989.88, 534591.55 3962...  \n",
       "4  POLYGON ((534571.28 3962968.17, 534591.55 3962...  "
      ]
     },
     "execution_count": 5,
     "metadata": {},
     "output_type": "execute_result"
    }
   ],
   "source": [
    "parcels.head()"
   ]
  }
 ],
 "metadata": {
  "kernelspec": {
   "display_name": "pyGIS",
   "language": "python",
   "name": "python3"
  },
  "language_info": {
   "codemirror_mode": {
    "name": "ipython",
    "version": 3
   },
   "file_extension": ".py",
   "mimetype": "text/x-python",
   "name": "python",
   "nbconvert_exporter": "python",
   "pygments_lexer": "ipython3",
   "version": "3.12.5"
  }
 },
 "nbformat": 4,
 "nbformat_minor": 2
}
