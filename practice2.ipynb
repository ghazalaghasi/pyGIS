{
 "cells": [
  {
   "cell_type": "code",
   "execution_count": 29,
   "metadata": {},
   "outputs": [],
   "source": [
    "import geopandas as gpd\n",
    "import shapely\n",
    "import math"
   ]
  },
  {
   "cell_type": "code",
   "execution_count": 30,
   "metadata": {},
   "outputs": [],
   "source": [
    "parcels = gpd.read_file(r\"draft\\R01M4\\R01M4.shp\")"
   ]
  },
  {
   "cell_type": "code",
   "execution_count": 31,
   "metadata": {},
   "outputs": [],
   "source": [
    "\n",
    "for idx, feature in parcels.iterrows():\n",
    "    parcel = feature['geometry'].simplify(tolerance=0.05)\n",
    "    coords = list(parcel.boundary.coords)\n",
    "    temp = []\n",
    "    for a, b in zip(coords,coords[1:]):\n",
    "        c = shapely.LineString([a,b]).length\n",
    "        d = math.degrees(math.atan2(b[1]-a[1], b[0]-a[0]))\n",
    "        temp.append({'c': c, 'd':d})    \n",
    "    e = max(temp, key=lambda x: x['c'])\n",
    "    parcels.loc[idx, 'x']= e['c']\n",
    "    parcels.loc[idx, 'y']= e['d']\n",
    "parcels.to_file('draft/parcelx.shp')"
   ]
  },
  {
   "cell_type": "code",
   "execution_count": null,
   "metadata": {},
   "outputs": [],
   "source": [
    "parcels.head()"
   ]
  }
 ],
 "metadata": {
  "kernelspec": {
   "display_name": "pyGIS",
   "language": "python",
   "name": "python3"
  },
  "language_info": {
   "codemirror_mode": {
    "name": "ipython",
    "version": 3
   },
   "file_extension": ".py",
   "mimetype": "text/x-python",
   "name": "python",
   "nbconvert_exporter": "python",
   "pygments_lexer": "ipython3",
   "version": "3.12.5"
  }
 },
 "nbformat": 4,
 "nbformat_minor": 2
}
